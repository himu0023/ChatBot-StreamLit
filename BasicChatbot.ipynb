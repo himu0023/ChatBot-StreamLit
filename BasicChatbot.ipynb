{
  "nbformat": 4,
  "nbformat_minor": 0,
  "metadata": {
    "colab": {
      "provenance": [],
      "authorship_tag": "ABX9TyMhbzM5b3JaqRIcbBGx1DaQ",
      "include_colab_link": true
    },
    "kernelspec": {
      "name": "python3",
      "display_name": "Python 3"
    },
    "language_info": {
      "name": "python"
    }
  },
  "cells": [
    {
      "cell_type": "markdown",
      "metadata": {
        "id": "view-in-github",
        "colab_type": "text"
      },
      "source": [
        "<a href=\"https://colab.research.google.com/github/himu0023/ChatBot-StreamLit/blob/main/BasicChatbot.ipynb\" target=\"_parent\"><img src=\"https://colab.research.google.com/assets/colab-badge.svg\" alt=\"Open In Colab\"/></a>"
      ]
    },
    {
      "cell_type": "code",
      "source": [
        "# !pip install streamlit"
      ],
      "metadata": {
        "id": "v2g3863JyNne"
      },
      "execution_count": 6,
      "outputs": []
    },
    {
      "cell_type": "code",
      "execution_count": 7,
      "metadata": {
        "id": "Ux4wyWf-xIpd"
      },
      "outputs": [],
      "source": [
        "import os\n",
        "import nltk\n",
        "import ssl\n",
        "import streamlit as st\n",
        "import random\n",
        "from sklearn.feature_extraction.text import TfidfVectorizer\n",
        "from sklearn.linear_model import LogisticRegression"
      ]
    },
    {
      "cell_type": "code",
      "source": [
        "ssl._create_default_https_context = ssl._create_unverified_context\n",
        "nltk.data.path.append(os.path.abspath(\"nltk_data\"))\n",
        "nltk.download(\"punkt\")"
      ],
      "metadata": {
        "colab": {
          "base_uri": "https://localhost:8080/"
        },
        "id": "YPzs81TVxo56",
        "outputId": "1feb4756-7830-41bc-ba3b-7785c5733a7c"
      },
      "execution_count": 8,
      "outputs": [
        {
          "output_type": "stream",
          "name": "stderr",
          "text": [
            "[nltk_data] Downloading package punkt to /root/nltk_data...\n",
            "[nltk_data]   Unzipping tokenizers/punkt.zip.\n"
          ]
        },
        {
          "output_type": "execute_result",
          "data": {
            "text/plain": [
              "True"
            ]
          },
          "metadata": {},
          "execution_count": 8
        }
      ]
    },
    {
      "cell_type": "code",
      "source": [
        "intents = [\n",
        "    {\n",
        "        \"tag\":\"greeting\",\n",
        "        \"patterns\":['Hi', 'Hey', 'Hello', 'How are you', \"What's up\"],\n",
        "        \"responses\":['Yoo', \"What's up shorty\", \"Sexy what about you\", \"I am always up\"]\n",
        "    },\n",
        "    {\n",
        "        \"tag\":\"goodbye\",\n",
        "        \"patterns\":[\"Bye\", \"See you later\", \"Goodbye\",\"Take care\"],\n",
        "        \"responses\":[\"See you Shorty\", \"Catch me\", \"Never say Bye\", \"I am all good, you take care\"]\n",
        "    },\n",
        "    {\n",
        "        \"tag\":\"thanks\",\n",
        "        \"patterns\":[\"Thank you\",\"Thanks\",\"Thanks a lot\", \"I appreciate it\"],\n",
        "        \"responses\":[\"Not to worry, glad to help anytime\", \"Not to worry, glad to help anytime\", \"Not to worry, glad to help anytime\",\"I appreciate you most\"]\n",
        "    },\n",
        "    {\n",
        "        \"tag\":\"about\",\n",
        "        \"patterns\":[\"Who are you\", \"What can you do\",\"What are you\", \"What is your purpose\"],\n",
        "        \"response\":[\"I am a ChatBot\", \"I can assist you\", \"I am a ChatBot build by Himu23\", \"My purpose is to assist you and provide help\"]\n",
        "    },\n",
        "    {\n",
        "        \"tag\":\"help\",\n",
        "        \"patterns\":[\"Help\", \"I need help\",\"Can you help me\", \"What should I do\"],\n",
        "        \"responses\": [\"Sure, what do you need help with?\", \"I'm here to help. What's the problem?\", \"What's the problem?\", \"How can I assist you?\"]\n",
        "    }\n",
        "]"
      ],
      "metadata": {
        "id": "qICfU63EzEYK"
      },
      "execution_count": 13,
      "outputs": []
    },
    {
      "cell_type": "code",
      "source": [],
      "metadata": {
        "id": "O2Ew3grWzSRy"
      },
      "execution_count": null,
      "outputs": []
    }
  ]
}